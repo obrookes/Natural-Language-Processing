{
  "nbformat": 4,
  "nbformat_minor": 0,
  "metadata": {
    "colab": {
      "name": "NLP: SMS Spam Classifier.ipynb",
      "provenance": [],
      "collapsed_sections": [],
      "authorship_tag": "ABX9TyPXEOq/Z8vv2xGdbsqpp/jJ",
      "include_colab_link": true
    },
    "kernelspec": {
      "name": "python3",
      "display_name": "Python 3"
    },
    "accelerator": "GPU"
  },
  "cells": [
    {
      "cell_type": "markdown",
      "metadata": {
        "id": "view-in-github",
        "colab_type": "text"
      },
      "source": [
        "<a href=\"https://colab.research.google.com/github/obrookes/Natural-Language-Processing/blob/master/NLP_SMS_Spam_Classifier.ipynb\" target=\"_parent\"><img src=\"https://colab.research.google.com/assets/colab-badge.svg\" alt=\"Open In Colab\"/></a>"
      ]
    },
    {
      "cell_type": "code",
      "metadata": {
        "id": "Qu_OR69ADycE",
        "colab_type": "code",
        "colab": {}
      },
      "source": [
        "pip install flair"
      ],
      "execution_count": null,
      "outputs": []
    },
    {
      "cell_type": "markdown",
      "metadata": {
        "id": "DJOtAZj2JFF1",
        "colab_type": "text"
      },
      "source": [
        "**Text classification: ham or spam**"
      ]
    },
    {
      "cell_type": "code",
      "metadata": {
        "id": "5Akoq1NMJKhB",
        "colab_type": "code",
        "colab": {
          "base_uri": "https://localhost:8080/",
          "height": 121
        },
        "outputId": "65f272eb-2ccd-4e95-a6ad-c6e82c98ec90"
      },
      "source": [
        "from google.colab import drive\n",
        "drive.mount('/content/gdrive')"
      ],
      "execution_count": 3,
      "outputs": [
        {
          "output_type": "stream",
          "text": [
            "Go to this URL in a browser: https://accounts.google.com/o/oauth2/auth?client_id=947318989803-6bn6qk8qdgf4n4g3pfee6491hc0brc4i.apps.googleusercontent.com&redirect_uri=urn%3aietf%3awg%3aoauth%3a2.0%3aoob&response_type=code&scope=email%20https%3a%2f%2fwww.googleapis.com%2fauth%2fdocs.test%20https%3a%2f%2fwww.googleapis.com%2fauth%2fdrive%20https%3a%2f%2fwww.googleapis.com%2fauth%2fdrive.photos.readonly%20https%3a%2f%2fwww.googleapis.com%2fauth%2fpeopleapi.readonly\n",
            "\n",
            "Enter your authorization code:\n",
            "··········\n",
            "Mounted at /content/gdrive\n"
          ],
          "name": "stdout"
        }
      ]
    },
    {
      "cell_type": "code",
      "metadata": {
        "id": "eY-5esKyOrdz",
        "colab_type": "code",
        "colab": {}
      },
      "source": [
        "%mkdir nlp\n",
        "%ls \"/content/gdrive/My Drive/nlp\"\n",
        "\n",
        "!cp /content/gdrive/My\\ Drive/nlp/spam.csv ./nlp\n",
        "%cd nlp"
      ],
      "execution_count": null,
      "outputs": []
    },
    {
      "cell_type": "code",
      "metadata": {
        "id": "JAjPTBeJPhnC",
        "colab_type": "code",
        "colab": {}
      },
      "source": [
        "import pandas as pd\n",
        "data = pd.read_csv(\"spam.csv\", encoding='latin-1').sample(frac=1).drop_duplicates()"
      ],
      "execution_count": 5,
      "outputs": []
    },
    {
      "cell_type": "markdown",
      "metadata": {
        "id": "8cZhQeElRNIM",
        "colab_type": "text"
      },
      "source": [
        "This will remove some duplicates from our dataset, shuffle it (randomise rows) and split the data into train, dev and test sets using the 80/10/10 split."
      ]
    },
    {
      "cell_type": "code",
      "metadata": {
        "id": "SCwQLUO3QJba",
        "colab_type": "code",
        "colab": {}
      },
      "source": [
        "data = data[['v1', 'v2']].rename(columns={\"v1\":\"label\", \"v2\":\"text\"})\n",
        " \n",
        "data['label'] = '__label__' + data['label'].astype(str)\n",
        "\n",
        "data.iloc[0:int(len(data)*0.8)].to_csv('train.csv', sep='\\t', index = False, header = False)\n",
        "data.iloc[int(len(data)*0.8):int(len(data)*0.9)].to_csv('test.csv', sep='\\t', index = False, header = False)\n",
        "data.iloc[int(len(data)*0.9):].to_csv('dev.csv', sep='\\t', index = False, header = False);"
      ],
      "execution_count": 6,
      "outputs": []
    },
    {
      "cell_type": "code",
      "metadata": {
        "id": "KZZrmYo8SM5z",
        "colab_type": "code",
        "colab": {
          "base_uri": "https://localhost:8080/",
          "height": 84
        },
        "outputId": "0da8241e-f865-42c3-faac-5e40ccc7bb3c"
      },
      "source": [
        "from flair.data import Corpus\n",
        "from flair.datasets import ClassificationCorpus\n",
        "\n",
        "# this is the folder in which train, test and dev files reside\n",
        "data_folder = './'\n",
        "\n",
        "# load corpus containing training, test and dev data\n",
        "corpus: Corpus = ClassificationCorpus(data_folder,\n",
        "                                      test_file='test.csv',\n",
        "                                      dev_file='dev.csv',\n",
        "                                      train_file='train.csv')"
      ],
      "execution_count": 11,
      "outputs": [
        {
          "output_type": "stream",
          "text": [
            "2020-07-22 16:30:12,552 Reading data from .\n",
            "2020-07-22 16:30:12,555 Train: train.csv\n",
            "2020-07-22 16:30:12,557 Dev: dev.csv\n",
            "2020-07-22 16:30:12,559 Test: test.csv\n"
          ],
          "name": "stdout"
        }
      ]
    },
    {
      "cell_type": "code",
      "metadata": {
        "id": "fbUDfrP_U1qm",
        "colab_type": "code",
        "colab": {}
      },
      "source": [
        "from flair.embeddings import WordEmbeddings, FlairEmbeddings, DocumentLSTMEmbeddings\n",
        "from flair.models import TextClassifier\n",
        "from flair.trainers import ModelTrainer\n",
        "from pathlib import Path\n",
        "\n",
        "\n",
        "word_embeddings = [WordEmbeddings('glove'), FlairEmbeddings('news-forward-fast'), FlairEmbeddings('news-backward-fast')]\n",
        "document_embeddings = DocumentLSTMEmbeddings(word_embeddings, hidden_size=512, reproject_words=True, reproject_words_dimension=256)\n",
        "classifier = TextClassifier(document_embeddings, label_dictionary=corpus.make_label_dictionary(), multi_label=False)\n",
        "trainer = ModelTrainer(classifier, corpus)\n",
        "trainer.train('./', max_epochs=10)"
      ],
      "execution_count": null,
      "outputs": []
    },
    {
      "cell_type": "code",
      "metadata": {
        "id": "bUpOchJOacfE",
        "colab_type": "code",
        "colab": {}
      },
      "source": [
        "classifier = TextClassifier.load('./best-model.pt')\n",
        "\n",
        "# create example sentence\n",
        "sentence = Sentence('click here for free stuff...')\n",
        "\n",
        "# predict class and print\n",
        "classifier.predict(sentence)\n",
        "\n",
        "print(sentence.labels)\n"
      ],
      "execution_count": null,
      "outputs": []
    }
  ]
}